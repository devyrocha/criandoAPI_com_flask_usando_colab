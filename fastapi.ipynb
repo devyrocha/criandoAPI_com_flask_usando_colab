{
  "nbformat": 4,
  "nbformat_minor": 0,
  "metadata": {
    "colab": {
      "provenance": [],
      "collapsed_sections": []
    },
    "kernelspec": {
      "name": "python3",
      "display_name": "Python 3"
    },
    "language_info": {
      "name": "python"
    }
  },
  "cells": [
    {
      "cell_type": "markdown",
      "source": [
        "Instalando frameworks:"
      ],
      "metadata": {
        "id": "uQBUJboB09MD"
      }
    },
    {
      "cell_type": "code",
      "execution_count": null,
      "metadata": {
        "colab": {
          "base_uri": "https://localhost:8080/"
        },
        "id": "modRLHR2NJjY",
        "outputId": "15919264-01c3-4c98-a4c2-922a134be832"
      },
      "outputs": [
        {
          "output_type": "stream",
          "name": "stdout",
          "text": [
            "Looking in indexes: https://pypi.org/simple, https://us-python.pkg.dev/colab-wheels/public/simple/\n",
            "Collecting fastapi\n",
            "  Downloading fastapi-0.85.2-py3-none-any.whl (55 kB)\n",
            "\u001b[K     |████████████████████████████████| 55 kB 2.0 MB/s \n",
            "\u001b[?25hCollecting nest-asyncio\n",
            "  Downloading nest_asyncio-1.5.6-py3-none-any.whl (5.2 kB)\n",
            "Collecting pyngrok\n",
            "  Downloading pyngrok-5.1.0.tar.gz (745 kB)\n",
            "\u001b[K     |████████████████████████████████| 745 kB 12.4 MB/s \n",
            "\u001b[?25hCollecting uvicorn\n",
            "  Downloading uvicorn-0.19.0-py3-none-any.whl (56 kB)\n",
            "\u001b[K     |████████████████████████████████| 56 kB 1.9 MB/s \n",
            "\u001b[?25hCollecting starlette==0.20.4\n",
            "  Downloading starlette-0.20.4-py3-none-any.whl (63 kB)\n",
            "\u001b[K     |████████████████████████████████| 63 kB 2.0 MB/s \n",
            "\u001b[?25hRequirement already satisfied: pydantic!=1.7,!=1.7.1,!=1.7.2,!=1.7.3,!=1.8,!=1.8.1,<2.0.0,>=1.6.2 in /usr/local/lib/python3.7/dist-packages (from fastapi) (1.10.2)\n",
            "Collecting anyio<5,>=3.4.0\n",
            "  Downloading anyio-3.6.2-py3-none-any.whl (80 kB)\n",
            "\u001b[K     |████████████████████████████████| 80 kB 9.0 MB/s \n",
            "\u001b[?25hRequirement already satisfied: typing-extensions>=3.10.0 in /usr/local/lib/python3.7/dist-packages (from starlette==0.20.4->fastapi) (4.1.1)\n",
            "Collecting sniffio>=1.1\n",
            "  Downloading sniffio-1.3.0-py3-none-any.whl (10 kB)\n",
            "Requirement already satisfied: idna>=2.8 in /usr/local/lib/python3.7/dist-packages (from anyio<5,>=3.4.0->starlette==0.20.4->fastapi) (2.10)\n",
            "Requirement already satisfied: PyYAML in /usr/local/lib/python3.7/dist-packages (from pyngrok) (6.0)\n",
            "Requirement already satisfied: click>=7.0 in /usr/local/lib/python3.7/dist-packages (from uvicorn) (7.1.2)\n",
            "Collecting h11>=0.8\n",
            "  Downloading h11-0.14.0-py3-none-any.whl (58 kB)\n",
            "\u001b[K     |████████████████████████████████| 58 kB 5.5 MB/s \n",
            "\u001b[?25hBuilding wheels for collected packages: pyngrok\n",
            "  Building wheel for pyngrok (setup.py) ... \u001b[?25l\u001b[?25hdone\n",
            "  Created wheel for pyngrok: filename=pyngrok-5.1.0-py3-none-any.whl size=19007 sha256=0b3f86f114f05ae0f9dfa07bbe4c979e5fb96c7f6309628677734bbe940e7130\n",
            "  Stored in directory: /root/.cache/pip/wheels/bf/e6/af/ccf6598ecefecd44104069371795cb9b3afbcd16987f6ccfb3\n",
            "Successfully built pyngrok\n",
            "Installing collected packages: sniffio, anyio, starlette, h11, uvicorn, pyngrok, nest-asyncio, fastapi\n",
            "Successfully installed anyio-3.6.2 fastapi-0.85.2 h11-0.14.0 nest-asyncio-1.5.6 pyngrok-5.1.0 sniffio-1.3.0 starlette-0.20.4 uvicorn-0.19.0\n"
          ]
        }
      ],
      "source": [
        "!pip install fastapi nest-asyncio pyngrok uvicorn"
      ]
    },
    {
      "cell_type": "markdown",
      "source": [
        "Importações para tratar a base de dados:"
      ],
      "metadata": {
        "id": "uoe4upqd0u3M"
      }
    },
    {
      "cell_type": "code",
      "source": [
        "import pandas as pd\n",
        "import json"
      ],
      "metadata": {
        "id": "Gulr08lSY9bT"
      },
      "execution_count": null,
      "outputs": []
    },
    {
      "cell_type": "markdown",
      "source": [
        "Lendo a base de dados:"
      ],
      "metadata": {
        "id": "HdL3G4x3005j"
      }
    },
    {
      "cell_type": "code",
      "source": [
        "base_dados_xlsx = pd.read_excel('/content/flask_baseD.xlsx')\n",
        "print(base_dados_xlsx)"
      ],
      "metadata": {
        "colab": {
          "base_uri": "https://localhost:8080/"
        },
        "id": "zNhs-LGJePLi",
        "outputId": "38d42db6-7528-4b54-f94f-c4501cfddcd2"
      },
      "execution_count": null,
      "outputs": [
        {
          "output_type": "stream",
          "name": "stdout",
          "text": [
            "   Number    Name  Age           City Country\n",
            "0       1  Mahesh   25      Bangalore   India\n",
            "1       2    Alex   26         London      UK\n",
            "2       3   David   27  San Francisco     USA\n",
            "3       4    John   28        Toronto  Canada\n",
            "4       5   Chris   29          Paris  France\n"
          ]
        }
      ]
    },
    {
      "cell_type": "markdown",
      "source": [
        "Convertendo a base de dados .xlsx para .json:"
      ],
      "metadata": {
        "id": "F7nRMohj03S7"
      }
    },
    {
      "cell_type": "code",
      "source": [
        "base_dados_json = base_dados_xlsx.to_json(orient='records')\n",
        "print(base_dados_json)"
      ],
      "metadata": {
        "colab": {
          "base_uri": "https://localhost:8080/"
        },
        "id": "uehE6LYTsnFL",
        "outputId": "79b667e0-30c4-4396-9a76-1a7263eeee14"
      },
      "execution_count": null,
      "outputs": [
        {
          "output_type": "stream",
          "name": "stdout",
          "text": [
            "[{\"Number\":1,\"Name\":\"Mahesh\",\"Age\":25,\"City\":\"Bangalore\",\"Country\":\"India\"},{\"Number\":2,\"Name\":\"Alex\",\"Age\":26,\"City\":\"London\",\"Country\":\"UK\"},{\"Number\":3,\"Name\":\"David\",\"Age\":27,\"City\":\"San Francisco\",\"Country\":\"USA\"},{\"Number\":4,\"Name\":\"John\",\"Age\":28,\"City\":\"Toronto\",\"Country\":\"Canada\"},{\"Number\":5,\"Name\":\"Chris\",\"Age\":29,\"City\":\"Paris\",\"Country\":\"France\"}]\n"
          ]
        }
      ]
    },
    {
      "cell_type": "markdown",
      "source": [
        "Usando FASTAPI:"
      ],
      "metadata": {
        "id": "eIP7-N7I0WOT"
      }
    },
    {
      "cell_type": "code",
      "source": [
        "from fastapi import FastAPI\n",
        "import nest_asyncio\n",
        "from pyngrok import ngrok\n",
        "import uvicorn"
      ],
      "metadata": {
        "id": "v1T2ldW60j_k"
      },
      "execution_count": null,
      "outputs": []
    },
    {
      "cell_type": "code",
      "source": [
        "app = FastAPI()\n",
        "\n",
        "@app.get('/index')\n",
        "async def home():\n",
        "  return base_dados_json\n",
        "\n",
        "ngrok_tunnel = ngrok.connect(8000)\n",
        "print(f\"Public URL: {ngrok_tunnel.public_url}/index\")\n",
        "nest_asyncio.apply()\n",
        "uvicorn.run(app, port=8000)"
      ],
      "metadata": {
        "colab": {
          "base_uri": "https://localhost:8080/"
        },
        "id": "uN4XoI9wlQ8i",
        "outputId": "7c8f9c11-46bf-4f54-ec2b-0ab4319bb1c2"
      },
      "execution_count": null,
      "outputs": [
        {
          "output_type": "stream",
          "name": "stdout",
          "text": []
        },
        {
          "output_type": "stream",
          "name": "stderr",
          "text": [
            "INFO:     Started server process [69]\n",
            "INFO:     Waiting for application startup.\n",
            "INFO:     Application startup complete.\n",
            "INFO:     Uvicorn running on http://127.0.0.1:8000 (Press CTRL+C to quit)\n"
          ]
        },
        {
          "output_type": "stream",
          "name": "stdout",
          "text": [
            "Public URL: http://80c6-35-225-123-71.ngrok.io/index\n",
            "INFO:     2804:14c:4c1:7e3:53:d897:dce:c2de:0 - \"GET /index HTTP/1.1\" 200 OK\n",
            "INFO:     2804:14c:4c1:7e3:53:d897:dce:c2de:0 - \"GET /favicon.ico HTTP/1.1\" 404 Not Found\n"
          ]
        },
        {
          "output_type": "stream",
          "name": "stderr",
          "text": [
            "INFO:     Shutting down\n",
            "INFO:     Waiting for application shutdown.\n",
            "INFO:     Application shutdown complete.\n",
            "INFO:     Finished server process [69]\n"
          ]
        }
      ]
    },
    {
      "cell_type": "markdown",
      "source": [
        "Resultado:\n",
        "![Captura de tela 2022-11-02 164235.png](data:image/png;base64,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)"
      ],
      "metadata": {
        "id": "lIREZgkJ3xLy"
      }
    }
  ]
}